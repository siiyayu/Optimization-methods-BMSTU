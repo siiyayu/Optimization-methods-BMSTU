{
 "cells": [
  {
   "cell_type": "code",
   "execution_count": 2,
   "metadata": {},
   "outputs": [],
   "source": [
    "import numpy as np\n",
    "import matplotlib.pyplot as plt\n",
    "%matplotlib inline"
   ]
  },
  {
   "cell_type": "markdown",
   "metadata": {},
   "source": [
    "Начальные данные: \n",
    "* 4-вариант\n",
    "* R1 := Th(Degree(x,2)*5+x*3-2); R2 := Exp((degree(x,3)+6*Degree(x,2)+12*x+8)/(2*Degree(x,2)+8*x+7)); VarF := R1+R2-2.0;\n",
    "* [a, b] = [-1, 0]\n",
    "\n",
    "\n",
    "Для заданной целевой функции на заданном отрезке (см. конец документа) методом дихотомии и методом золотого сечения найти:\n",
    "1. Точку минимума (или в некоторых вариантах максимума).\n",
    "2. Минимальное (максимальное) значение целевой функции.\n",
    "Методы дихотомии и золотого сечения должны быть реализованы самостоятельно. При поиске точки минимума рассмотреть три варианта с различными значениями параметра точности поиска: ε=0,01; ε=0,00001 и 1e-17. Для каждого варианта вывести данные о количестве итераций и количестве вычисленных значений целевой функции (лучше в виде сводной таблицы). Построить график изменения интервалов неопределенности. Объяснить полученные результаты. Работа должна заканчиваться выводами.\n"
   ]
  },
  {
   "cell_type": "code",
   "execution_count": 3,
   "metadata": {},
   "outputs": [],
   "source": [
    "# зададим функцию f\n",
    "f = lambda x: np.tanh(5*x**2 + 3*x - 2) + np.exp((x**3 + 6*x**2 +12*x + 8)/(2*x**2 + 8*x + 7)) - 2.0\n",
    "# зададим границ интервала\n",
    "a = -1\n",
    "b = 0"
   ]
  },
  {
   "cell_type": "code",
   "execution_count": 4,
   "metadata": {},
   "outputs": [
    {
     "data": {
      "image/png": "[encoded data removed]",
      "text/plain": [
       "<Figure size 432x432 with 1 Axes>"
      ]
     },
     "metadata": {
      "needs_background": "light"
     },
     "output_type": "display_data"
    }
   ],
   "source": [
    "x = np.arange(-1, 0, 0.01)\n",
    "plt.figure(figsize = (6, 6))\n",
    "plt.plot(x, f(x))\n",
    "plt.grid(True)"
   ]
  },
  {
   "cell_type": "code",
   "execution_count": 5,
   "metadata": {},
   "outputs": [
    {
     "name": "stdout",
     "output_type": "stream",
     "text": [
      "-0.6645559999961053 -0.41619761067539063\n"
     ]
    }
   ],
   "source": [
    "x_arr = np.arange(-0.8, -0.6, 1e-6)\n",
    "arr = [f(x) for x in x_arr]\n",
    "m = min(arr)\n",
    "print(x_arr[arr.index(m)], m)"
   ]
  },
  {
   "cell_type": "code",
   "execution_count": 6,
   "metadata": {},
   "outputs": [],
   "source": [
    "def plot_intervals(intervals):\n",
    "    g = lambda x, i: 0*x + i\n",
    "    plt.figure(figsize = (6, 6))\n",
    "    for i, interval in enumerate(intervals):\n",
    "#         x = np.linspace(interval[0], interval[1], 2)\n",
    "        if abs(interval[1] - interval[0]) < 0.01:\n",
    "            plt.scatter(interval[0], i, s = 3)\n",
    "        else:\n",
    "            x = np.arange(interval[0], interval[1], 1e-6)\n",
    "            plt.plot(x, g(x, i), linewidth = 3)\n",
    "    plt.grid(True)"
   ]
  },
  {
   "cell_type": "markdown",
   "metadata": {},
   "source": [
    "## Метод дихотомии"
   ]
  },
  {
   "cell_type": "code",
   "execution_count": 8,
   "metadata": {},
   "outputs": [],
   "source": [
    "def dihotomia(a, b, eps, intervals):\n",
    "    intervals.append([a, b])\n",
    "    delta = eps/2 - e*10**(-1)\n",
    "    while abs(b - a) > eps:\n",
    "        x = (a + b)/2\n",
    "        f1 = f(x - delta)\n",
    "        f2 = f(x + delta)\n",
    "        if f1 < f2:\n",
    "            b = x\n",
    "        else:\n",
    "            a = x\n",
    "        intervals.append([a, b])\n",
    "    return (a + b)/2"
   ]
  },
  {
   "cell_type": "code",
   "execution_count": 9,
   "metadata": {},
   "outputs": [],
   "source": [
    "def find_min(e, function = dihotomia,  a = -1, b = 0):\n",
    "    intervals = [] # сюда будем записывать границы интервалов на каждой итерации\n",
    "    x = function(a, b, e, intervals)\n",
    "    num_of_it = len(intervals) - 1\n",
    "    if function.__name__ == \"golden_section\":\n",
    "        num_of_func_calc = num_of_it + 1\n",
    "    else:\n",
    "        num_of_func_calc = num_of_it*2\n",
    "    print(\"x min: \", x)\n",
    "    print(\"f min: \", f(x))\n",
    "    print(\"number of iterations: \", num_of_it)\n",
    "    print(\"number of function calculations: \",num_of_func_calc)\n",
    "    plot_intervals(intervals)"
   ]
  },
  {
   "cell_type": "code",
   "execution_count": 10,
   "metadata": {},
   "outputs": [
    {
     "name": "stdout",
     "output_type": "stream",
     "text": [
      "x min:  -0.66796875\n",
      "f min:  -0.4161598825883954\n",
      "number of iterations:  7\n",
      "number of function calculations:  14\n"
     ]
    },
    {
     "data": {
      "image/png": "[encoded data removed]",
      "text/plain": [
       "<Figure size 432x432 with 1 Axes>"
      ]
     },
     "metadata": {
      "needs_background": "light"
     },
     "output_type": "display_data"
    }
   ],
   "source": [
    "find_min(0.01)"
   ]
  },
  {
   "cell_type": "code",
   "execution_count": 11,
   "metadata": {},
   "outputs": [
    {
     "name": "stdout",
     "output_type": "stream",
     "text": [
      "x min:  -0.6645545959472656\n",
      "f min:  -0.41619761066800587\n",
      "number of iterations:  17\n",
      "number of function calculations:  34\n"
     ]
    },
    {
     "data": {
      "image/png": "[encoded data removed]",
      "text/plain": [
       "<Figure size 432x432 with 1 Axes>"
      ]
     },
     "metadata": {
      "needs_background": "light"
     },
     "output_type": "display_data"
    }
   ],
   "source": [
    "find_min(0.00001)"
   ]
  },
  {
   "cell_type": "code",
   "execution_count": 13,
   "metadata": {},
   "outputs": [
    {
     "name": "stdout",
     "output_type": "stream",
     "text": [
      "x min:  -1.4901161193851044e-08\n",
      "f min:  0.17168716126391637\n",
      "number of iterations:  67\n",
      "number of function calculations:  134\n"
     ]
    },
    {
     "data": {
      "image/png": "[encoded data removed]",
      "text/plain": [
       "<Figure size 432x432 with 1 Axes>"
      ]
     },
     "metadata": {
      "needs_background": "light"
     },
     "output_type": "display_data"
    }
   ],
   "source": [
    "find_min(1e-20)"
   ]
  },
  {
   "cell_type": "markdown",
   "metadata": {},
   "source": [
    "## Метод золотого сечения"
   ]
  },
  {
   "cell_type": "code",
   "execution_count": null,
   "metadata": {},
   "outputs": [],
   "source": [
    "def golden_section(a, b, e, intervals):\n",
    "    intervals.append([a, b])\n",
    "    phi = (1 + np.sqrt(5))/2\n",
    "    x1 = b - (b - a)/phi\n",
    "    x2 = a + (b - a)/phi\n",
    "    f1 = f(x1)\n",
    "    f2 = f(x2)\n",
    "    it = 0\n",
    "#     while abs(abs(b) - abs(a)) >= e: # все чотко\n",
    "    while abs(abs(b) - abs(a)) >= e: # 1e-17в бесокнечный цикл\n",
    "        it += 1\n",
    "        if it > 1000:\n",
    "            break\n",
    "        if f1 > f2:\n",
    "            a = x1\n",
    "            x1 = x2\n",
    "            f1 = f2\n",
    "            x2 = b - (x1 - a)\n",
    "            f2 = f(x2)\n",
    "        else:\n",
    "            b = x2\n",
    "            x2 = x1\n",
    "            f2 = f1\n",
    "            x1 = a + (b - x2)\n",
    "            f1 = f(x1)\n",
    "        intervals.append([a, b])\n",
    "    return (a + b)/2"
   ]
  },
  {
   "cell_type": "code",
   "execution_count": 14,
   "metadata": {},
   "outputs": [
    {
     "name": "stdout",
     "output_type": "stream",
     "text": [
      "x min:  -0.667184270002525\n",
      "f min:  -0.41617528068364495\n",
      "number of iterations:  9\n",
      "number of function calculations:  10\n"
     ]
    },
    {
     "data": {
      "image/png": "[encoded data removed]",
      "text/plain": [
       "<Figure size 432x432 with 1 Axes>"
      ]
     },
     "metadata": {
      "needs_background": "light"
     },
     "output_type": "display_data"
    }
   ],
   "source": [
    "find_min(0.01, golden_section)"
   ]
  },
  {
   "cell_type": "code",
   "execution_count": 15,
   "metadata": {},
   "outputs": [
    {
     "name": "stdout",
     "output_type": "stream",
     "text": [
      "x min:  -0.6645540240261971\n",
      "f min:  -0.4161976106613703\n",
      "number of iterations:  23\n",
      "number of function calculations:  24\n"
     ]
    },
    {
     "data": {
      "image/png": "[encoded data removed]",
      "text/plain": [
       "<Figure size 432x432 with 1 Axes>"
      ]
     },
     "metadata": {
      "needs_background": "light"
     },
     "output_type": "display_data"
    }
   ],
   "source": [
    "find_min(0.00001, golden_section)"
   ]
  },
  {
   "cell_type": "code",
   "execution_count": null,
   "metadata": {},
   "outputs": [
    {
     "name": "stderr",
     "output_type": "stream",
     "text": [
      "/Users/andrewbelyaev/opt/anaconda3/lib/python3.7/site-packages/ipykernel_launcher.py:2: RuntimeWarning: overflow encountered in exp\n",
      "  \n",
      "/Users/andrewbelyaev/opt/anaconda3/lib/python3.7/site-packages/ipykernel_launcher.py:2: RuntimeWarning: overflow encountered in double_scalars\n",
      "  \n",
      "/Users/andrewbelyaev/opt/anaconda3/lib/python3.7/site-packages/ipykernel_launcher.py:2: RuntimeWarning: invalid value encountered in double_scalars\n",
      "  \n"
     ]
    },
    {
     "name": "stdout",
     "output_type": "stream",
     "text": [
      "x min:  1.2323019129469984e+192\n",
      "f min:  nan\n",
      "number of iterations:  1000\n",
      "number of function calculations:  1001\n"
     ]
    }
   ],
   "source": [
    "# find_min(1e-17, golden_section) # не работает если abs(b-a), работает если b-a"
   ]
  },
  {
   "cell_type": "code",
   "execution_count": 1,
   "metadata": {},
   "outputs": [
    {
     "ename": "NameError",
     "evalue": "name 'eps' is not defined",
     "output_type": "error",
     "traceback": [
      "\u001b[0;31m---------------------------------------------------------------------------\u001b[0m",
      "\u001b[0;31mNameError\u001b[0m                                 Traceback (most recent call last)",
      "\u001b[0;32m<ipython-input-1-6b336febac98>\u001b[0m in \u001b[0;36m<module>\u001b[0;34m\u001b[0m\n\u001b[0;32m----> 1\u001b[0;31m \u001b[0meps\u001b[0m\u001b[0;34m(\u001b[0m\u001b[0;36m3\u001b[0m\u001b[0;34m)\u001b[0m\u001b[0;34m\u001b[0m\u001b[0;34m\u001b[0m\u001b[0m\n\u001b[0m",
      "\u001b[0;31mNameError\u001b[0m: name 'eps' is not defined"
     ]
    }
   ],
   "source": []
  },
  {
   "cell_type": "code",
   "execution_count": null,
   "metadata": {},
   "outputs": [],
   "source": []
  }
 ],
 "metadata": {
  "kernelspec": {
   "display_name": "Python 3",
   "language": "python",
   "name": "python3"
  },
  "language_info": {
   "codemirror_mode": {
    "name": "ipython",
    "version": 3
   },
   "file_extension": ".py",
   "mimetype": "text/x-python",
   "name": "python",
   "nbconvert_exporter": "python",
   "pygments_lexer": "ipython3",
   "version": "3.7.7"
  }
 },
 "nbformat": 4,
 "nbformat_minor": 4
}
